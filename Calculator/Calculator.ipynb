{
 "cells": [
  {
   "cell_type": "code",
   "execution_count": 1,
   "id": "59cc008b",
   "metadata": {},
   "outputs": [],
   "source": [
    "from tkinter import *\n",
    "import math"
   ]
  },
  {
   "cell_type": "code",
   "execution_count": 2,
   "id": "301d59bb",
   "metadata": {},
   "outputs": [],
   "source": [
    "#root window\n",
    "root = Tk()\n",
    "root.title(\"Calculator\")\n",
    "heading_L = Label(root, text=\"Caclulator\", font=(\"Calibri\", 20, \"bold\"))\n",
    "heading_L.pack(pady=10)"
   ]
  },
  {
   "cell_type": "code",
   "execution_count": 3,
   "id": "63b24d45",
   "metadata": {},
   "outputs": [],
   "source": [
    "#Entry frame\n",
    "entry_frame = Frame(root)\n",
    "entry_frame.pack(pady=5)\n",
    "\n",
    "entry = Entry(entry_frame, width=45, justify=RIGHT, state=\"readonly\")\n",
    "entry.pack()"
   ]
  },
  {
   "cell_type": "code",
   "execution_count": 4,
   "id": "3f6dc846",
   "metadata": {},
   "outputs": [],
   "source": [
    "#Function to clear\n",
    "def clear_F():\n",
    "    entry.config(state=\"normal\")\n",
    "    entry.delete(0, END)\n",
    "    entry.config(state=\"readonly\")"
   ]
  },
  {
   "cell_type": "code",
   "execution_count": 5,
   "id": "a1d171b6",
   "metadata": {},
   "outputs": [],
   "source": [
    "#Function to root\n",
    "def root_F():\n",
    "    entry.config(state=\"normal\")\n",
    "    n = entry.get()\n",
    "    entry.delete(0, END)\n",
    "    entry.insert(0, math.sqrt(float(n)))\n",
    "    entry.config(state=\"readonly\")"
   ]
  },
  {
   "cell_type": "code",
   "execution_count": 6,
   "id": "ac9ad69a",
   "metadata": {},
   "outputs": [],
   "source": [
    "#Function to delete from right\n",
    "def delete_F():\n",
    "    entry.config(state=\"normal\")\n",
    "    number = entry.get()\n",
    "    if number:\n",
    "        updated_number = number[:-1]\n",
    "        entry.delete(0, END)\n",
    "        entry.insert(0, updated_number)\n",
    "    entry.config(state=\"readonly\")"
   ]
  },
  {
   "cell_type": "code",
   "execution_count": 7,
   "id": "63a9c710",
   "metadata": {},
   "outputs": [],
   "source": [
    "#Function to insert num and char\n",
    "def number_insert_F(button):\n",
    "    entry.config(state=\"normal\")\n",
    "    button_text = button.cget(\"text\")\n",
    "    entry.insert(END, button_text)\n",
    "    entry.config(state=\"readonly\")"
   ]
  },
  {
   "cell_type": "code",
   "execution_count": 8,
   "id": "8dd6d820",
   "metadata": {},
   "outputs": [],
   "source": [
    "#Function to split text\n",
    "def split_operation_F(text):\n",
    "    if '+' in text:\n",
    "        i = text.find('+')\n",
    "    elif '-' in text:\n",
    "        i = text.find('-')\n",
    "    elif 'x' in text:\n",
    "        i = text.find('x')\n",
    "    elif '/' in text:\n",
    "        i = text.find('/')\n",
    "        \n",
    "    operator = text[i]\n",
    "    left, right = text.split(operator)\n",
    "    \n",
    "    return left, operator, right"
   ]
  },
  {
   "cell_type": "code",
   "execution_count": 9,
   "id": "67dc40f9",
   "metadata": {},
   "outputs": [],
   "source": [
    "#Function for equal to operation\n",
    "def equal_F():\n",
    "    try:\n",
    "        entry.config(state=\"normal\")\n",
    "        left, operator, right = split_operation_F(entry.get())\n",
    "        if len(left)!=0 and len(operator)!=0 and len(right)!=0:\n",
    "            entry.delete(0, END)\n",
    "\n",
    "        if operator=='+':\n",
    "            entry.insert(0, (float(left)+float(right)))\n",
    "        elif operator=='-':\n",
    "            entry.insert(0, (float(left)-float(right)))\n",
    "        elif operator=='x':\n",
    "            entry.insert(0, (float(left)*float(right)))\n",
    "        elif operator=='/':\n",
    "            entry.insert(0, (float(left)/float(right)))\n",
    "        entry.config(state=\"readonly\")\n",
    "        \n",
    "        if warning_frame.winfo_ismapped():\n",
    "            warning_frame.pack_forget()\n",
    "    \n",
    "    except Exception as e:\n",
    "        warning_frame.pack()\n",
    "        entry.config(state=\"readonly\")"
   ]
  },
  {
   "cell_type": "code",
   "execution_count": 10,
   "id": "66164436",
   "metadata": {},
   "outputs": [],
   "source": [
    "#Function to remove warning label\n",
    "def remove_label():\n",
    "    if warning_frame.winfo_ismapped():\n",
    "        warning_frame.pack_forget()\n",
    "        entry.config(state=\"readonly\")"
   ]
  },
  {
   "cell_type": "code",
   "execution_count": 11,
   "id": "b9eb9b9e",
   "metadata": {},
   "outputs": [],
   "source": [
    "#Button frame\n",
    "button_frame = Frame(root)\n",
    "button_frame.pack(pady=5)\n",
    "\n",
    "clear_B = Button(button_frame, text=\"C\", command=clear_F, width=5)\n",
    "clear_B.grid(row=0, column=0, padx=10, pady=10)\n",
    "\n",
    "root_B = Button(button_frame, text=\"√root\", command=root_F, width=5)\n",
    "root_B.grid(row=0, column=1, padx=10, pady=10)\n",
    "\n",
    "delete_B = Button(button_frame, text=\"<-\", command=delete_F, width=5)\n",
    "delete_B.grid(row=0, column=2, padx=10, pady=10)\n",
    "\n",
    "divide_B = Button(button_frame, text=\"/\", command=lambda: number_insert_F(divide_B), width=5)\n",
    "divide_B.grid(row=0, column=3, padx=10, pady=10)\n",
    "\n",
    "seven_B = Button(button_frame, text=\"7\", command=lambda: number_insert_F(seven_B), width=5)\n",
    "seven_B.grid(row=1, column=0, padx=10, pady=10)\n",
    "\n",
    "eight_B = Button(button_frame, text=\"8\", command=lambda: number_insert_F(eight_B), width=5)\n",
    "eight_B.grid(row=1, column=1, padx=10, pady=10)\n",
    "\n",
    "nine_B = Button(button_frame, text=\"9\", command=lambda: number_insert_F(nine_B), width=5)\n",
    "nine_B.grid(row=1, column=2, padx=10, pady=10)\n",
    "\n",
    "multiply_B = Button(button_frame, text=\"x\", command=lambda: number_insert_F(multiply_B), width=5)\n",
    "multiply_B.grid(row=1, column=3, padx=10, pady=10)\n",
    "\n",
    "four_B = Button(button_frame, text=\"4\", command=lambda: number_insert_F(four_B), width=5)\n",
    "four_B.grid(row=2, column=0, padx=10, pady=10)\n",
    "\n",
    "five_B = Button(button_frame, text=\"5\", command=lambda: number_insert_F(five_B), width=5)\n",
    "five_B.grid(row=2, column=1, padx=10, pady=10)\n",
    "\n",
    "six_B = Button(button_frame, text=\"6\", command=lambda: number_insert_F(six_B), width=5)\n",
    "six_B.grid(row=2, column=2, padx=10, pady=10)\n",
    "\n",
    "minus_B = Button(button_frame, text=\"-\", command=lambda: number_insert_F(minus_B), width=5)\n",
    "minus_B.grid(row=2, column=3, padx=10, pady=10)\n",
    "\n",
    "one_B = Button(button_frame, text=\"1\", command=lambda: number_insert_F(one_B), width=5)\n",
    "one_B.grid(row=3, column=0, padx=10, pady=10)\n",
    "\n",
    "two_B = Button(button_frame, text=\"2\", command=lambda: number_insert_F(two_B), width=5)\n",
    "two_B.grid(row=3, column=1, padx=10, pady=10)\n",
    "\n",
    "three_B = Button(button_frame, text=\"3\", command=lambda: number_insert_F(three_B), width=5)\n",
    "three_B.grid(row=3, column=2, padx=10, pady=10)\n",
    "\n",
    "plus_B = Button(button_frame, text=\"+\", command=lambda: number_insert_F(plus_B), width=5)\n",
    "plus_B.grid(row=3, column=3, padx=10, pady=10)\n",
    "\n",
    "zerozero_B = Button(button_frame, text=\"00\", command=lambda: number_insert_F(zerozero_B), width=5)\n",
    "zerozero_B.grid(row=4, column=0, padx=10, pady=10)\n",
    "\n",
    "zero_B = Button(button_frame, text=\"0\", command=lambda: number_insert_F(zero_B), width=5)\n",
    "zero_B.grid(row=4, column=1, padx=10, pady=10)\n",
    "\n",
    "dot_B = Button(button_frame, text=\".\", command=lambda: number_insert_F(dot_B), width=5)\n",
    "dot_B.grid(row=4, column=2, padx=10, pady=10)\n",
    "\n",
    "equal_B = Button(button_frame, text=\"=\", command=equal_F, width=5)\n",
    "equal_B.grid(row=4, column=3, padx=10, pady=10)"
   ]
  },
  {
   "cell_type": "code",
   "execution_count": 12,
   "id": "a28ac3f0",
   "metadata": {},
   "outputs": [],
   "source": [
    "#Warning frame\n",
    "warning_frame = Frame(root)\n",
    "\n",
    "warning_L = Label(warning_frame, text=\"Warning: Enter correct operation\", fg=\"red\", borderwidth=4, font=(\"Calibri\", 10, \"bold\"))\n",
    "warning_L.grid(row=0, column=0)\n",
    "\n",
    "clear_warning_B = Button(warning_frame, text=\"x\", fg=\"red\", command=remove_label, width=2, height=1, font=(\"Calibri\", 8, \"bold\"))\n",
    "clear_warning_B.grid(row=0, column=1)"
   ]
  },
  {
   "cell_type": "code",
   "execution_count": null,
   "id": "a66b31c4",
   "metadata": {},
   "outputs": [],
   "source": [
    "root.mainloop()"
   ]
  },
  {
   "cell_type": "code",
   "execution_count": null,
   "id": "65a1d3f4",
   "metadata": {},
   "outputs": [],
   "source": []
  }
 ],
 "metadata": {
  "kernelspec": {
   "display_name": "Python 3 (ipykernel)",
   "language": "python",
   "name": "python3"
  },
  "language_info": {
   "codemirror_mode": {
    "name": "ipython",
    "version": 3
   },
   "file_extension": ".py",
   "mimetype": "text/x-python",
   "name": "python",
   "nbconvert_exporter": "python",
   "pygments_lexer": "ipython3",
   "version": "3.11.4"
  }
 },
 "nbformat": 4,
 "nbformat_minor": 5
}
