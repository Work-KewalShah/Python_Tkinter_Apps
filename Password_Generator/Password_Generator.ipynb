{
 "cells": [
  {
   "cell_type": "code",
   "execution_count": 1,
   "id": "32bc2e63",
   "metadata": {},
   "outputs": [],
   "source": [
    "from tkinter import *\n",
    "import string\n",
    "import random"
   ]
  },
  {
   "cell_type": "code",
   "execution_count": 2,
   "id": "32eb55cb",
   "metadata": {},
   "outputs": [],
   "source": [
    "#root window\n",
    "root = Tk()\n",
    "root.title(\"Password Generator\")\n",
    "\n",
    "heading_L = Label(root, text=\"Password Generator\", font=(\"Calibri\", 20, \"bold\"))\n",
    "heading_L.pack(pady=10, padx=10)"
   ]
  },
  {
   "cell_type": "code",
   "execution_count": 3,
   "id": "f210add4",
   "metadata": {},
   "outputs": [],
   "source": [
    "#Generate password function\n",
    "def generate_pswd_F():\n",
    "    try:\n",
    "        characters = string.ascii_letters + string.digits + \"!\" + \"@\" + \"#\" + \"$\" + \"%\" + \"^\" + \"&\" + \"*\"\n",
    "        pswd = ''.join(random.choice(characters) for _ in range(int(pswd_length_E.get())))\n",
    "        generate_pswd_E.config(state=\"normal\")\n",
    "        generate_pswd_E.delete(0, END)\n",
    "        generate_pswd_E.insert(0, pswd)\n",
    "        generate_pswd_E.config(state=\"readonly\")\n",
    "        \n",
    "        if accept_frame.winfo_ismapped():\n",
    "            accept_frame.pack_forget()\n",
    "            \n",
    "    except Exception as e:\n",
    "        accept_L.config(text=\"Warning: Enter numeric length\", fg=\"red\")\n",
    "        accept_frame.pack(pady=7)"
   ]
  },
  {
   "cell_type": "code",
   "execution_count": 4,
   "id": "cf4000dd",
   "metadata": {},
   "outputs": [],
   "source": [
    "#Accept password function\n",
    "def accept_F():\n",
    "    try:\n",
    "        if(len(generate_pswd_E.get())!=0):\n",
    "            int(pswd_length_E.get())\n",
    "            accept_L.config(text=\"Password Accepted\", fg=\"green\")\n",
    "            accept_frame.pack(pady=7)\n",
    "            generate_pswd_E.config(state=\"readonly\")\n",
    "        else:\n",
    "            accept_L.config(text=\"Warning: Generate correct password\", fg=\"red\")\n",
    "            accept_frame.pack(pady=7)\n",
    "        \n",
    "    except Exception as e:\n",
    "        accept_L.config(text=\"Warning: Enter numeric length\", fg=\"red\")\n",
    "        accept_frame.pack(pady=7)"
   ]
  },
  {
   "cell_type": "code",
   "execution_count": 5,
   "id": "5a344f87",
   "metadata": {},
   "outputs": [],
   "source": [
    "#Reset function\n",
    "def reset_F():\n",
    "    username_E.delete(0, END)\n",
    "    pswd_length_E.delete(0, END)\n",
    "    generate_pswd_E.config(state=\"normal\")\n",
    "    generate_pswd_E.delete(0, END)\n",
    "    generate_pswd_E.config(state=\"readonly\")\n",
    "    if accept_frame.winfo_ismapped():\n",
    "        accept_frame.pack_forget()"
   ]
  },
  {
   "cell_type": "code",
   "execution_count": 6,
   "id": "5ca4faea",
   "metadata": {},
   "outputs": [],
   "source": [
    "#Function to remove warning label\n",
    "def remove_label():\n",
    "    if accept_frame.winfo_ismapped():\n",
    "        accept_frame.pack_forget()\n",
    "        generate_pswd_E.config(state=\"readonly\")"
   ]
  },
  {
   "cell_type": "code",
   "execution_count": 7,
   "id": "74f1e511",
   "metadata": {},
   "outputs": [],
   "source": [
    "#Frame for labels and entry box\n",
    "main_frame = Frame(root)\n",
    "\n",
    "#Label frame\n",
    "text_frame = Frame(main_frame)\n",
    "username_L = Label(text_frame, text=\"Enter User Name:\")\n",
    "username_L.pack(padx=5, anchor=\"w\")\n",
    "\n",
    "pswd_length_L = Label(text_frame, text=\"Enter Password Length:\")\n",
    "pswd_length_L.pack(padx=5, anchor=\"w\")\n",
    "\n",
    "generated_pswd_L = Label(text_frame, text=\"Generated Password:\")\n",
    "generated_pswd_L.pack(padx=5, anchor=\"w\")\n",
    "\n",
    "text_frame.pack(side=LEFT, anchor=\"w\")\n",
    "\n",
    "#Entry box frame\n",
    "entry_frame = Frame(main_frame)\n",
    "username_E = Entry(entry_frame, width=30)\n",
    "username_E.pack(padx=5, anchor=\"w\")\n",
    "\n",
    "pswd_length_E = Entry(entry_frame, width=30)\n",
    "pswd_length_E.pack(padx=5, anchor=\"w\")\n",
    "\n",
    "generate_pswd_E = Entry(entry_frame, width=30, state=\"readonly\")\n",
    "generate_pswd_E.pack(padx=5, anchor=\"w\")\n",
    "\n",
    "entry_frame.pack(side=LEFT, anchor=\"w\")\n",
    "\n",
    "main_frame.pack(padx=5, anchor=\"w\")"
   ]
  },
  {
   "cell_type": "code",
   "execution_count": 8,
   "id": "8d1e4fd8",
   "metadata": {},
   "outputs": [],
   "source": [
    "#Generate password button\n",
    "generate_pswd_B = Button(root, text=\"Generate Password\", command=generate_pswd_F)\n",
    "generate_pswd_B.pack(pady=7)"
   ]
  },
  {
   "cell_type": "code",
   "execution_count": 9,
   "id": "9b7a8e0c",
   "metadata": {},
   "outputs": [],
   "source": [
    "#Accept and Reset button frame\n",
    "button_frame = Frame(root)\n",
    "button_frame.pack()\n",
    "\n",
    "accept_B = Button(button_frame, text=\"Accept\", command=accept_F, width=7)\n",
    "accept_B.pack(side=LEFT, padx=5, pady=1)\n",
    "\n",
    "reset_B = Button(button_frame, text=\"Reset\", command=reset_F, width=7)\n",
    "reset_B.pack(side=LEFT, padx=5, pady=1)"
   ]
  },
  {
   "cell_type": "code",
   "execution_count": 10,
   "id": "b22272cd",
   "metadata": {},
   "outputs": [],
   "source": [
    "#Warning and Accept frame\n",
    "accept_frame = Frame(root)\n",
    "\n",
    "accept_L = Label(accept_frame, borderwidth=4, font=(\"Calibri\", 10, \"bold\"))\n",
    "accept_L.grid(row=0, column=0)\n",
    "\n",
    "clear_accept_B = Button(accept_frame, text=\"x\", fg=\"red\", command=remove_label, width=2, height=1, font=(\"Calibri\", 8, \"bold\"))\n",
    "clear_accept_B.grid(row=0, column=1)"
   ]
  },
  {
   "cell_type": "code",
   "execution_count": 11,
   "id": "4724c6ce",
   "metadata": {},
   "outputs": [],
   "source": [
    "root.mainloop()"
   ]
  },
  {
   "cell_type": "code",
   "execution_count": null,
   "id": "2858546f",
   "metadata": {},
   "outputs": [],
   "source": []
  }
 ],
 "metadata": {
  "kernelspec": {
   "display_name": "Python 3 (ipykernel)",
   "language": "python",
   "name": "python3"
  },
  "language_info": {
   "codemirror_mode": {
    "name": "ipython",
    "version": 3
   },
   "file_extension": ".py",
   "mimetype": "text/x-python",
   "name": "python",
   "nbconvert_exporter": "python",
   "pygments_lexer": "ipython3",
   "version": "3.11.4"
  }
 },
 "nbformat": 4,
 "nbformat_minor": 5
}
